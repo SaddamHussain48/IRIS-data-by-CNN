{
 "cells": [
  {
   "cell_type": "markdown",
   "metadata": {},
   "source": [
    "# Basic Libraries"
   ]
  },
  {
   "cell_type": "code",
   "execution_count": 96,
   "metadata": {},
   "outputs": [],
   "source": [
    "%matplotlib inline\n",
    "from matplotlib import pyplot as plt\n",
    "import pandas as pd\n",
    "import numpy as np\n",
    "import os"
   ]
  },
  {
   "cell_type": "markdown",
   "metadata": {},
   "source": [
    "# creating Data"
   ]
  },
  {
   "cell_type": "code",
   "execution_count": 97,
   "metadata": {},
   "outputs": [],
   "source": [
    "data = [[3, 1.5, 1],\n",
    "        [2, 1, 0],\n",
    "        [4, 1.5, 1],\n",
    "        [3, 1, 0],\n",
    "        [3.5, .5, 1],\n",
    "        [2, .5, 0],\n",
    "        [5.5, 1, 1],\n",
    "        [1, 1, 0]]\n",
    "\n",
    "mflower = [4.5, 1]"
   ]
  },
  {
   "cell_type": "markdown",
   "metadata": {},
   "source": [
    "# Pred Data"
   ]
  },
  {
   "cell_type": "code",
   "execution_count": 98,
   "metadata": {},
   "outputs": [
    {
     "data": {
      "text/plain": [
       "[4.5, 1]"
      ]
     },
     "execution_count": 98,
     "metadata": {},
     "output_type": "execute_result"
    }
   ],
   "source": [
    "mflower"
   ]
  },
  {
   "cell_type": "markdown",
   "metadata": {},
   "source": [
    "# random wait and bais"
   ]
  },
  {
   "cell_type": "code",
   "execution_count": 99,
   "metadata": {},
   "outputs": [],
   "source": [
    "# w1\n",
    "w1 = np.random.randn()\n",
    "# w2\n",
    "w2 = np.random.randn()\n",
    "# bais b\n",
    "b = np.random.randn()"
   ]
  },
  {
   "cell_type": "code",
   "execution_count": 100,
   "metadata": {},
   "outputs": [
    {
     "data": {
      "text/plain": [
       "1.4826765198641794"
      ]
     },
     "execution_count": 100,
     "metadata": {},
     "output_type": "execute_result"
    }
   ],
   "source": [
    "w1"
   ]
  },
  {
   "cell_type": "code",
   "execution_count": 101,
   "metadata": {},
   "outputs": [
    {
     "data": {
      "text/plain": [
       "-0.09689058414117842"
      ]
     },
     "execution_count": 101,
     "metadata": {},
     "output_type": "execute_result"
    }
   ],
   "source": [
    "w2"
   ]
  },
  {
   "cell_type": "code",
   "execution_count": 102,
   "metadata": {},
   "outputs": [
    {
     "data": {
      "text/plain": [
       "-1.3192749580825218"
      ]
     },
     "execution_count": 102,
     "metadata": {},
     "output_type": "execute_result"
    }
   ],
   "source": [
    "b = np.random.randn()\n",
    "b"
   ]
  },
  {
   "cell_type": "markdown",
   "metadata": {},
   "source": [
    "# to introduce nonlinearity in the model"
   ]
  },
  {
   "cell_type": "code",
   "execution_count": 103,
   "metadata": {},
   "outputs": [],
   "source": [
    "def sigmoid(x):\n",
    "    return 1/(1 + np.exp(-x))"
   ]
  },
  {
   "cell_type": "code",
   "execution_count": 104,
   "metadata": {},
   "outputs": [],
   "source": [
    "def sigmoid_p(x):\n",
    "    return sigmoid(x) * (1-sigmoid(x))"
   ]
  },
  {
   "cell_type": "markdown",
   "metadata": {},
   "source": [
    "# output Function"
   ]
  },
  {
   "cell_type": "code",
   "execution_count": 105,
   "metadata": {},
   "outputs": [],
   "source": [
    "\n",
    "def which_flower(length, width):\n",
    "   # z = length * w1 + width * w2 + b \n",
    "    z = mflower[0] * w1 + mflower[1] * w2 + b\n",
    "    pred = sigmoid(z)\n",
    "    pred\n",
    "    \n",
    "    if pred < .5:\n",
    "        os.system(\"say blue\")\n",
    "        print(\"Blue\")\n",
    "    else:\n",
    "        os.system(\"say red\")\n",
    "        print(\"Red\")\n",
    "            "
   ]
  },
  {
   "cell_type": "code",
   "execution_count": 106,
   "metadata": {},
   "outputs": [
    {
     "data": {
      "text/plain": [
       "array([-5.        , -4.8989899 , -4.7979798 , -4.6969697 , -4.5959596 ,\n",
       "       -4.49494949, -4.39393939, -4.29292929, -4.19191919, -4.09090909,\n",
       "       -3.98989899, -3.88888889, -3.78787879, -3.68686869, -3.58585859,\n",
       "       -3.48484848, -3.38383838, -3.28282828, -3.18181818, -3.08080808,\n",
       "       -2.97979798, -2.87878788, -2.77777778, -2.67676768, -2.57575758,\n",
       "       -2.47474747, -2.37373737, -2.27272727, -2.17171717, -2.07070707,\n",
       "       -1.96969697, -1.86868687, -1.76767677, -1.66666667, -1.56565657,\n",
       "       -1.46464646, -1.36363636, -1.26262626, -1.16161616, -1.06060606,\n",
       "       -0.95959596, -0.85858586, -0.75757576, -0.65656566, -0.55555556,\n",
       "       -0.45454545, -0.35353535, -0.25252525, -0.15151515, -0.05050505,\n",
       "        0.05050505,  0.15151515,  0.25252525,  0.35353535,  0.45454545,\n",
       "        0.55555556,  0.65656566,  0.75757576,  0.85858586,  0.95959596,\n",
       "        1.06060606,  1.16161616,  1.26262626,  1.36363636,  1.46464646,\n",
       "        1.56565657,  1.66666667,  1.76767677,  1.86868687,  1.96969697,\n",
       "        2.07070707,  2.17171717,  2.27272727,  2.37373737,  2.47474747,\n",
       "        2.57575758,  2.67676768,  2.77777778,  2.87878788,  2.97979798,\n",
       "        3.08080808,  3.18181818,  3.28282828,  3.38383838,  3.48484848,\n",
       "        3.58585859,  3.68686869,  3.78787879,  3.88888889,  3.98989899,\n",
       "        4.09090909,  4.19191919,  4.29292929,  4.39393939,  4.49494949,\n",
       "        4.5959596 ,  4.6969697 ,  4.7979798 ,  4.8989899 ,  5.        ])"
      ]
     },
     "execution_count": 106,
     "metadata": {},
     "output_type": "execute_result"
    }
   ],
   "source": [
    "t = np.linspace(-5, 5, 100)\n",
    "t"
   ]
  },
  {
   "cell_type": "code",
   "execution_count": 107,
   "metadata": {},
   "outputs": [
    {
     "data": {
      "text/plain": [
       "array([ 0.00669285,  0.00739896,  0.00817894,  0.00904041,  0.00999169,\n",
       "        0.01104196,  0.01220126,  0.01348063,  0.01489212,  0.01644893,\n",
       "        0.01816549,  0.02005754,  0.0221422 ,  0.02443814,  0.02696557,\n",
       "        0.02974643,  0.03280439,  0.036165  ,  0.0398557 ,  0.04390588,\n",
       "        0.04834692,  0.05321217,  0.0585369 ,  0.06435824,  0.07071501,\n",
       "        0.07764755,  0.0851974 ,  0.093407  ,  0.1023192 ,  0.11197671,\n",
       "        0.12242144,  0.13369374,  0.14583148,  0.1588691 ,  0.17283646,\n",
       "        0.18775769,  0.20364993,  0.22052213,  0.23837374,  0.25719365,\n",
       "        0.2769591 ,  0.29763488,  0.31917283,  0.34151151,  0.36457644,\n",
       "        0.38828059,  0.41252537,  0.43720205,  0.46219351,  0.48737642,\n",
       "        0.51262358,  0.53780649,  0.56279795,  0.58747463,  0.61171941,\n",
       "        0.63542356,  0.65848849,  0.68082717,  0.70236512,  0.7230409 ,\n",
       "        0.74280635,  0.76162626,  0.77947787,  0.79635007,  0.81224231,\n",
       "        0.82716354,  0.8411309 ,  0.85416852,  0.86630626,  0.87757856,\n",
       "        0.88802329,  0.8976808 ,  0.906593  ,  0.9148026 ,  0.92235245,\n",
       "        0.92928499,  0.93564176,  0.9414631 ,  0.94678783,  0.95165308,\n",
       "        0.95609412,  0.9601443 ,  0.963835  ,  0.96719561,  0.97025357,\n",
       "        0.97303443,  0.97556186,  0.9778578 ,  0.97994246,  0.98183451,\n",
       "        0.98355107,  0.98510788,  0.98651937,  0.98779874,  0.98895804,\n",
       "        0.99000831,  0.99095959,  0.99182106,  0.99260104,  0.99330715])"
      ]
     },
     "execution_count": 107,
     "metadata": {},
     "output_type": "execute_result"
    }
   ],
   "source": [
    "y = sigmoid(t)\n",
    "y"
   ]
  },
  {
   "cell_type": "code",
   "execution_count": 108,
   "metadata": {},
   "outputs": [
    {
     "data": {
      "text/plain": [
       "[<matplotlib.lines.Line2D at 0x2076dbbf588>]"
      ]
     },
     "execution_count": 108,
     "metadata": {},
     "output_type": "execute_result"
    },
    {
     "data": {
      "image/png": "[encoded data removed]",
      "text/plain": [
       "<matplotlib.figure.Figure at 0x2076cb6b860>"
      ]
     },
     "metadata": {},
     "output_type": "display_data"
    }
   ],
   "source": [
    "plt.plot(t, y)"
   ]
  },
  {
   "cell_type": "markdown",
   "metadata": {},
   "source": [
    "# Training model"
   ]
  },
  {
   "cell_type": "code",
   "execution_count": 109,
   "metadata": {},
   "outputs": [
    {
     "name": "stdout",
     "output_type": "stream",
     "text": [
      "0.000129084461248\n",
      "0.804506328894\n",
      "0.0156701451926\n",
      "0.0465576636069\n",
      "0.0710177507346\n",
      "0.046250589795\n",
      "0.21736013901\n",
      "0.0431188727601\n",
      "0.0420860903267\n",
      "0.00863412408208\n"
     ]
    },
    {
     "data": {
      "text/plain": [
       "0.84921131251462434"
      ]
     },
     "execution_count": 109,
     "metadata": {},
     "output_type": "execute_result"
    }
   ],
   "source": [
    "\n",
    "learning_rate = 0.001\n",
    "for i in range(10000):\n",
    "    ri = np.random.randint(len(data))\n",
    "    point = data[ri]\n",
    "    \n",
    "    z = point[0] * w1 + point[1] * w2 + b\n",
    "    prd = sigmoid(z)\n",
    "    target = point[2]\n",
    "    cost = np.square(prd - target)\n",
    "    \n",
    "    if i % 1000 == 0:\n",
    "        print(cost)\n",
    "    \n",
    "    dcost_dprd = 2 * (prd - target)\n",
    "    dprd_dz = sigmoid_p(z)\n",
    "    \n",
    "    dz_dw1 = point[0]\n",
    "    dz_dw2 = point[1]\n",
    "    dz_db = 1\n",
    "    \n",
    "    dcost_dz = dcost_dprd * dprd_dz\n",
    "    \n",
    "    dcost_dw1 = dcost_dz *dz_dw1\n",
    "    dcost_dw2 = dcost_dz *dz_dw2\n",
    "    dcost_db = dcost_dz *dz_db\n",
    "    \n",
    "    w1 = w1 -learning_rate * dcost_dw1\n",
    "    w2 = w2 -learning_rate * dcost_dw2\n",
    "    b = b -learning_rate * dcost_db\n",
    "w1"
   ]
  },
  {
   "cell_type": "code",
   "execution_count": 110,
   "metadata": {},
   "outputs": [
    {
     "data": {
      "text/plain": [
       "0.83039698901452885"
      ]
     },
     "execution_count": 110,
     "metadata": {},
     "output_type": "execute_result"
    }
   ],
   "source": [
    "z = mflower[0] * w1 + mflower[1] * w2 + b \n",
    "pred = sigmoid(z)\n",
    "pred"
   ]
  },
  {
   "cell_type": "markdown",
   "metadata": {},
   "source": [
    "# Predection of Flower"
   ]
  },
  {
   "cell_type": "code",
   "execution_count": 111,
   "metadata": {},
   "outputs": [
    {
     "name": "stdout",
     "output_type": "stream",
     "text": [
      "Red\n"
     ]
    }
   ],
   "source": [
    "which_flower(4.5, 1)"
   ]
  },
  {
   "cell_type": "code",
   "execution_count": null,
   "metadata": {},
   "outputs": [],
   "source": []
  },
  {
   "cell_type": "code",
   "execution_count": null,
   "metadata": {},
   "outputs": [],
   "source": []
  },
  {
   "cell_type": "code",
   "execution_count": null,
   "metadata": {},
   "outputs": [],
   "source": []
  },
  {
   "cell_type": "code",
   "execution_count": null,
   "metadata": {},
   "outputs": [],
   "source": []
  }
 ],
 "metadata": {
  "kernelspec": {
   "display_name": "Python 3",
   "language": "python",
   "name": "python3"
  },
  "language_info": {
   "codemirror_mode": {
    "name": "ipython",
    "version": 3
   },
   "file_extension": ".py",
   "mimetype": "text/x-python",
   "name": "python",
   "nbconvert_exporter": "python",
   "pygments_lexer": "ipython3",
   "version": "3.6.4"
  }
 },
 "nbformat": 4,
 "nbformat_minor": 2
}
